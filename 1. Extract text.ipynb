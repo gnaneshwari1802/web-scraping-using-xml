{
 "cells": [
  {
   "cell_type": "code",
   "execution_count": 15,
   "id": "67397210-bfb5-43cc-b17a-1764c3fc8e31",
   "metadata": {
    "tags": []
   },
   "outputs": [],
   "source": [
    "# Web scrapping for xml sheet \n",
    "\"\"\"\n",
    "Web scraping is the process of using bots to extract content and data from a website. Unlike screen scraping, which only copies pixels displayed onscreen, web scraping extracts underlying HTML code and, with it, data stored in a database.\n",
    "Web scraping, web harvesting, or web data extraction is data scraping used for extracting data from websites. Web scraping software may directly access the World Wide Web using the Hypertext Transfer Protocol or a web browser.\n",
    "\"\"\"\n",
    "import os\n",
    "os.chdir(r\"E:\\Sep-25th-26th---webscrapping-main\\Sep-25th-26th---webscrapping-main\\25th_26th_-webscrapping\\25th,26th, - webscrapping\\14.-NLP-WEB-SCRAPING_1\\xml_single articles\")\n",
    "\n"
   ]
  },
  {
   "cell_type": "code",
   "execution_count": 16,
   "id": "a0f708a9-87b2-4666-807a-8fecd468255b",
   "metadata": {
    "tags": []
   },
   "outputs": [],
   "source": [
    "import xml.etree.ElementTree as ET\n",
    "\"\"\"\n",
    "What is ElementTree in XML?\n",
    "ElementTree is an important Python library that allows you to parse and navigate an XML document. Using ElementTree breaks down the XML document in a tree structure that is easy to work with.\n",
    "\"\"\"\n",
    "tree = ET.parse(\"769952.xml\") \n",
    "root = tree.getroot()\n"
   ]
  },
  {
   "cell_type": "code",
   "execution_count": 17,
   "id": "1b1caafc-f3f5-45e5-a85b-8c7c381a9f34",
   "metadata": {
    "tags": []
   },
   "outputs": [
    {
     "data": {
      "text/plain": [
       "'<?xml version=\\'1.0\\' encoding=\\'utf8\\'?>\\n<article>\\n    <front>\\n        <journal-meta>\\n            <journal-id journal-id-type=\"publication\">0901c7918047d0e2</journal-id>\\n            <journal-id journal-id-type=\"publisher\" />\\n            <journal-title>Orphan Drug Approvals</journal-title>\\n            <abbrev-journal-title abbrev-type=\"publication\" />\\n            <issn />\\n            <publisher>\\n                <publisher-name>\\n                    <p>WebMD, LLC</p>\\n                </publisher-name>\\n            </publisher>\\n            <notes notes-type=\"support-page\">\\n                <p>index</p>\\n            </notes>\\n        </journal-meta>\\n        <article-meta>\\n            <article-id>0901c79180555528</article-id>\\n            <article-categories>\\n                <subj-group>\\n                    <subject>News Alert</subject>\\n                </subj-group>\\n                <series-title />\\n            </article-categories>\\n            <title-group>\\n                <article-above-title />\\n                <article-title>FDA Grants Orphan Drug Status to Gevokizumab</article-title>\\n                <subtitle />\\n                <alt-title>The FDA has granted orphan drug designation to gevokizumab for the treatment of noninfectious intermediate uveitis, posterior uveitis, or panuveitis, or chronic noninfectious anterior uveitis.</alt-title>\\n            </title-group>\\n            <contrib-group>\\n                <contrib contrib-type=\"Journalist\">\\n                    <name>\\n                        <surname>Troy Brown</surname>\\n                    </name>\\n                    <role>Journalist</role>\\n                    <bio>\\n                        <p>Troy Brown is a freelance writer for Medscape.</p>\\n                    </bio>\\n                    <author-comment>\\n                        <title>Disclosure</title>\\n                        <p>Troy Brown has disclosed no relevant financial relationships.</p>\\n                    </author-comment>\\n                    <author-comment>\\n                        <title>Title</title>\\n                        <p />\\n                    </author-comment>\\n                </contrib>\\n            </contrib-group>\\n            <pub-date>\\n                <day>29</day>\\n                <month>08</month>\\n                <year>2012</year>\\n            </pub-date>\\n            <volume />\\n            <issue />\\n            <fpage />\\n            <lpage />\\n            <copyright-year />\\n            <copyright-statement />\\n            <kwd-group>\\n                <kwd>choroiditis,cyclitis,intermediate uveitis,orphan drugs,pars planitis,posterior uveitis</kwd>\\n            </kwd-group>\\n            <history>\\n                <date date-type=\"posting\">\\n                    <day>29</day>\\n                    <month>08</month>\\n                    <year>2012</year>\\n                </date>\\n            </history>\\n        </article-meta>\\n    </front>\\n    <body>\\n        <sec sec-type=\"page\">\\n            <title />\\n            <sec sec-type=\"Default\">\\n                <title />\\n                <sec sec-type=\"section\">\\n                    <title />\\n                    <p>August 29, 2012 — The US Food and Drug Administration (FDA) has granted orphan drug status to gevokizumab (<italic>Xoma 052</italic>, Xoma Corp), a monoclonal antibody that binds strongly to interleukin 1β (IL-1β), for the treatment of noninfectious intermediate uveitis, posterior uveitis, or panuveitis, or chronic noninfectious anterior uveitis.</p>\\n<p>The Orphan Drug Act of 1983 was passed to encourage companies to develop treatments for rare diseases (diseases that affect fewer than 200,000 people in the United States). Because the market is so small, such treatments can be unprofitable to develop. Companies that develop orphan drugs receive a 50% tax credit for the cost of conducting human clinical trials, 7-year marketing exclusivity, and other incentives.</p>\\n<p>Behçet\\'s disease is a rare multisystem disease that causes blood vessel inflammation throughout the body. Common symptoms are mouth sores, genital sores, and a type of panuveitis known as Behçet\\'s uveitis, an inflammation of the uvea, retina, and vitreous humor that can lead to retinal detachment, vitreous hemorrhage, glaucoma, and blindness.</p>\\n<p>\"A genetic association has been shown between Behçet\\'s disease and the IL-1 gene cluster, and IL-1β has been implicated as a mediator in Behçet\\'s disease pathogenesis,\" Christine Kay, MD, the director of Retinal Clinical Research and the director of the Electrophysiology Service in the Vitreoretinal Division of the Department of Ophthalmology at the University of Florida in Gainesville, told <italic>Medscape Medical News</italic>. Dr. Kay is a clinical correspondent for the American Academy of Ophthalmology.</p>\\n<p>\"Gevokizumab regulates the activation of IL-1 receptors and can be intravenously or subcutaneously administered,\" Dr. Kay added.</p>\\n<p>Patients with Behçet\\'s uveitis have few treatment options. \"There are currently only 2 drugs FDA-approved for the treatment of chronic noninfectious intermediate, posterior, and panuveitis (<italic>Retisert</italic> [Bausch &amp; Lomb] and <italic>Ozurdex</italic> [Allergan]), and both are extended-release corticosteroid ocular implants,\" Dr. Kay said.</p>\\n<p>Results of a proof-of-concept phase 2 trial of intravenous gevokizumab in 7 patients with Behçet\\'s uveitis were published in the April issue of the <italic>Annals of Rheumatic Diseases</italic>. In that trial patients were given a single infusion of gevokizumab (0.3 mg/kg), and all patients experienced complete reduction of intraocular inflammation in between 4 and 21 days (median, 14 days). There were no treatment-related adverse events.</p>\\n<p>\"In clinical trials, so far, gevokizumab has been studied in nearly 500 patients. The studies have shown that gevokizumab is well-tolerated, and no drug-related adverse events have been reported,\" Fred Kurland, chief financial officer of Xoma, said in an email interview with <italic>Medscape Medical News</italic>.</p>\\n<p>Although it appears that gevokizumab \"may offer a viable treatment option in Behçet\\'s disease, it remains to be seen if an IL-1 antibody will have an effect in other forms of noninfectious uveitis. A phase 3 clinical trial to evaluate the efficacy of [gevokizumab] in the treatment of noninfectious uveitis is in the recruitment process,\" Dr. Kay said.</p>\\n<p>\"Gevokizumab does offer the possibility of a pathophysiology-driven targeted therapy for IL-1 related uveitis, and if proven safe and effective in a phase 3 trial, this could provide a valuable option in the treatment of noninfectious intermediate uveitis, posterior uveitis, and panuveitis. Even if this drug is only shown to be effective in Behçet\\'s disease, this could provide a useful and targeted treatment for an extremely aggressive condition, perhaps limiting broader and more toxic immunosuppression,\" Dr. Kay said.</p>\\n<p>\\n                        <bold>Other Potential Indications</bold>\\n                    </p>\\n<p>\"As an IL-1β inhibitor, gevokizumab has potential in a very large number of indications that are driven by inflammation, such as noninfectious uveitis.... [W]e are also engaged in 2 proof-of-concept phase 2 trials using gevokizumab in patients with moderate to severe acne vulgaris and in erosive osteoarthritis of the hand, and we will initiate a third proof-of-concept trial in another indication later this year,\" Kurland explained.</p>\\n<p>\"With respect to the [noninfectious uveitis] market specifically, we estimate that there are approximately 150,000 patients in the [United States who have noninfectious uveitis],\" Kurland added, noting they are not discussing the drug\\'s pricing yet.</p>\\n<p>\\n                        <italic>Dr. Kay has disclosed no relevant financial relationships.</italic>\\n                    </p>\\n                </sec>\\n            </sec>\\n        </sec>\\n    </body>\\n    <back>\\n        <ref-list>\\n            <title>References</title>\\n            <list>\\n                <list-item>\\n                    <p />\\n                </list-item>\\n            </list>\\n        </ref-list>\\n        <ack>\\n            <title>Acknowledgements</title>\\n            <p />\\n        </ack>\\n        <fn-group>\\n            <fn fn-type=\"bkmtr_front\">\\n                <p />\\n            </fn>\\n        </fn-group>\\n    </back>\\n</article>'"
      ]
     },
     "execution_count": 17,
     "metadata": {},
     "output_type": "execute_result"
    }
   ],
   "source": [
    "\"\"\"\n",
    "How to access XML in python?\n",
    "To read an XML file using ElementTree, firstly, we import the ElementTree class found inside xml library, under the name ET (common convension). Then passed the filename of the xml file to the ElementTree. parse() method, to enable parsing of our xml file. Then got the root (parent tag) of our xml file using getroot().\n",
    "\"\"\"\n",
    "\"\"\"\n",
    "What is Unicodedata?\n",
    "This module provides access to the Unicode Character Database (UCD) which defines character properties for all Unicode characters. The data contained in this database is compiled from the UCD version 14.0.\n",
    "\"\"\"\n",
    "\"\"\"\n",
    "What is the use of Unicodedata?\n",
    "The unicodedata module is used to access all of the Unicode characters using Unicode character databases. In this database, there are character properties of all characters. To use this modules, we need to import the unicodedata module in our code.\n",
    "\"\"\"\n",
    "# What is getroot in python?\n",
    "# getroot() This function returns root element of the tree root = tree.getroot()\n",
    "# What is the best python library for XML?\n",
    "# lxml​ lxml is a Python library for processing XML and HTML documents. It provides a fast and efficient parsing engine that supports a wide range of parsing strategies, including XPath and CSS selectors. One reason for its popularity is its performance.\n",
    "root=ET.tostring(root, encoding='utf8').decode('utf8')\n",
    "\n",
    "root\n",
    "\n"
   ]
  },
  {
   "cell_type": "code",
   "execution_count": 18,
   "id": "d203fe34-98cc-4bd0-8ac9-8d5fb1c35741",
   "metadata": {
    "tags": []
   },
   "outputs": [],
   "source": [
    "import re, string, unicodedata\n",
    "import nltk\n",
    "\n",
    "from bs4 import BeautifulSoup\n",
    "from nltk import word_tokenize, sent_tokenize\n",
    "from nltk.corpus import stopwords\n",
    "from nltk.stem import LancasterStemmer, WordNetLemmatizer\n",
    "# What is stem in NLP?\n",
    "# Stemming | Engati\n",
    "# Stemming, in Natural Language Processing (NLP), refers to the process of reducing a word to its word stem that affixes to suffixes and prefixes or the roots.\n",
    "# What is stemming and Lemmatizing in NLTK?\n",
    "# Stemming is a process that stems or removes last few characters from a word, often leading to incorrect meanings and spelling. Lemmatization considers the context and converts the word to its meaningful base form, which is called Lemma. For instance, stemming the word 'Caring' would return 'Car'.\n",
    "def strip_html(text):\n",
    "    soup = BeautifulSoup(text, \"html.parser\")\n",
    "    return soup.get_text()\n"
   ]
  },
  {
   "cell_type": "code",
   "execution_count": null,
   "id": "a5de58c7-1e90-470d-8a4f-81f33c881f20",
   "metadata": {
    "tags": []
   },
   "outputs": [],
   "source": []
  },
  {
   "cell_type": "code",
   "execution_count": 19,
   "id": "bfb4b46d-78be-428b-93a4-b29bb4677648",
   "metadata": {
    "tags": []
   },
   "outputs": [],
   "source": [
    "# What is the BeautifulSoup function in Python?\n",
    "# BeautifulSoup object is provided by Beautiful Soup which is a web scraping framework for Python. Web scraping is the process of extracting data from the website using automated tools to make the process faster. The BeautifulSoup object represents the parsed document as a whole.    \n",
    "# What does soup get_text do?\n",
    "# The get_text() method returns the text inside the Beautiful Soup or Tag object as a single Unicode string.\n",
    "def remove_between_square_brackets(text):\n",
    "    return re.sub('\\[[^]]*\\]', '', text)\n",
    "\n"
   ]
  },
  {
   "cell_type": "code",
   "execution_count": 20,
   "id": "bb67e3ca-5353-4e3d-b9b3-238a63168ea4",
   "metadata": {
    "tags": []
   },
   "outputs": [],
   "source": [
    "def denoise_text(text):\n",
    "    text = strip_html(text)\n",
    "    text = remove_between_square_brackets(text)\n",
    "    text=re.sub('  ','',text)\n",
    "    return text"
   ]
  },
  {
   "cell_type": "code",
   "execution_count": 21,
   "id": "db6adbdd-38e8-4e65-8ade-8e000e3dda0b",
   "metadata": {
    "tags": []
   },
   "outputs": [
    {
     "name": "stdout",
     "output_type": "stream",
     "text": [
      "\n",
      "\n",
      "\n",
      "\n",
      "0901c7918047d0e2\n",
      "\n",
      "Orphan Drug Approvals\n",
      "\n",
      "\n",
      "\n",
      "\n",
      "WebMD, LLC\n",
      "\n",
      "\n",
      "\n",
      "index\n",
      "\n",
      "\n",
      "\n",
      "0901c79180555528\n",
      "\n",
      "\n",
      "News Alert\n",
      "\n",
      "\n",
      "\n",
      "\n",
      "\n",
      "FDA Grants Orphan Drug Status to Gevokizumab\n",
      "\n",
      "The FDA has granted orphan drug designation to gevokizumab for the treatment of noninfectious intermediate uveitis, posterior uveitis, or panuveitis, or chronic noninfectious anterior uveitis.\n",
      "\n",
      "\n",
      "\n",
      "\n",
      "Troy Brown\n",
      "\n",
      "Journalist\n",
      "\n",
      "Troy Brown is a freelance writer for Medscape.\n",
      "\n",
      "\n",
      "Disclosure\n",
      "Troy Brown has disclosed no relevant financial relationships.\n",
      "\n",
      "\n",
      "Title\n",
      "\n",
      "\n",
      "\n",
      "\n",
      "\n",
      "29\n",
      "08\n",
      "2012\n",
      "\n",
      "\n",
      "\n",
      "\n",
      "\n",
      "\n",
      "\n",
      "\n",
      "choroiditis,cyclitis,intermediate uveitis,orphan drugs,pars planitis,posterior uveitis\n",
      "\n",
      "\n",
      "\n",
      "29\n",
      "08\n",
      "2012\n",
      "\n",
      "\n",
      "\n",
      "\n",
      "\n",
      "\n",
      "\n",
      "\n",
      "\n",
      "\n",
      "\n",
      "August 29, 2012 — The US Food and Drug Administration (FDA) has granted orphan drug status to gevokizumab (Xoma 052, Xoma Corp), a monoclonal antibody that binds strongly to interleukin 1β (IL-1β), for the treatment of noninfectious intermediate uveitis, posterior uveitis, or panuveitis, or chronic noninfectious anterior uveitis.\n",
      "The Orphan Drug Act of 1983 was passed to encourage companies to develop treatments for rare diseases (diseases that affect fewer than 200,000 people in the United States). Because the market is so small, such treatments can be unprofitable to develop. Companies that develop orphan drugs receive a 50% tax credit for the cost of conducting human clinical trials, 7-year marketing exclusivity, and other incentives.\n",
      "Behçet's disease is a rare multisystem disease that causes blood vessel inflammation throughout the body. Common symptoms are mouth sores, genital sores, and a type of panuveitis known as Behçet's uveitis, an inflammation of the uvea, retina, and vitreous humor that can lead to retinal detachment, vitreous hemorrhage, glaucoma, and blindness.\n",
      "\"A genetic association has been shown between Behçet's disease and the IL-1 gene cluster, and IL-1β has been implicated as a mediator in Behçet's disease pathogenesis,\" Christine Kay, MD, the director of Retinal Clinical Research and the director of the Electrophysiology Service in the Vitreoretinal Division of the Department of Ophthalmology at the University of Florida in Gainesville, told Medscape Medical News. Dr. Kay is a clinical correspondent for the American Academy of Ophthalmology.\n",
      "\"Gevokizumab regulates the activation of IL-1 receptors and can be intravenously or subcutaneously administered,\" Dr. Kay added.\n",
      "Patients with Behçet's uveitis have few treatment options. \"There are currently only 2 drugs FDA-approved for the treatment of chronic noninfectious intermediate, posterior, and panuveitis (Retisertand Ozurdex ), and both are extended-release corticosteroid ocular implants,\" Dr. Kay said.\n",
      "Results of a proof-of-concept phase 2 trial of intravenous gevokizumab in 7 patients with Behçet's uveitis were published in the April issue of the Annals of Rheumatic Diseases. In that trial patients were given a single infusion of gevokizumab (0.3 mg/kg), and all patients experienced complete reduction of intraocular inflammation in between 4 and 21 days (median, 14 days). There were no treatment-related adverse events.\n",
      "\"In clinical trials, so far, gevokizumab has been studied in nearly 500 patients. The studies have shown that gevokizumab is well-tolerated, and no drug-related adverse events have been reported,\" Fred Kurland, chief financial officer of Xoma, said in an email interview with Medscape Medical News.\n",
      "Although it appears that gevokizumab \"may offer a viable treatment option in Behçet's disease, it remains to be seen if an IL-1 antibody will have an effect in other forms of noninfectious uveitis. A phase 3 clinical trial to evaluate the efficacy ofin the treatment of noninfectious uveitis is in the recruitment process,\" Dr. Kay said.\n",
      "\"Gevokizumab does offer the possibility of a pathophysiology-driven targeted therapy for IL-1 related uveitis, and if proven safe and effective in a phase 3 trial, this could provide a valuable option in the treatment of noninfectious intermediate uveitis, posterior uveitis, and panuveitis. Even if this drug is only shown to be effective in Behçet's disease, this could provide a useful and targeted treatment for an extremely aggressive condition, perhaps limiting broader and more toxic immunosuppression,\" Dr. Kay said.\n",
      "\n",
      "Other Potential Indications\n",
      "\n",
      "\"As an IL-1β inhibitor, gevokizumab has potential in a very large number of indications that are driven by inflammation, such as noninfectious uveitis.... e are also engaged in 2 proof-of-concept phase 2 trials using gevokizumab in patients with moderate to severe acne vulgaris and in erosive osteoarthritis of the hand, and we will initiate a third proof-of-concept trial in another indication later this year,\" Kurland explained.\n",
      "\"With respect to themarket specifically, we estimate that there are approximately 150,000 patients in the ,\" Kurland added, noting they are not discussing the drug's pricing yet.\n",
      "\n",
      "Dr. Kay has disclosed no relevant financial relationships.\n",
      "\n",
      "\n",
      "\n",
      "\n",
      "\n",
      "\n",
      "\n",
      "References\n",
      "\n",
      "\n",
      "\n",
      "\n",
      "\n",
      "\n",
      "\n",
      "Acknowledgements\n",
      "\n",
      "\n",
      "\n",
      "\n",
      "\n",
      "\n",
      "\n",
      "\n",
      "\n"
     ]
    }
   ],
   "source": [
    "\"\"\"\n",
    "The strip_html() function in Python typically refers to a custom function or method that you create to remove HTML tags from a given string containing HTML-formatted content. HTML tags are used to structure and format web content, and sometimes you may need to extract just the text content without the HTML tags for various purposes like data processing, analysis, or display.\n",
    "\"\"\"\n",
    "\n",
    "\n",
    "sample = denoise_text(root)\n",
    "\"\"\"\n",
    "\"Denoising text\" in Python generally refers to the process of removing noise or unwanted elements from a piece of text to make it cleaner, more readable, and more suitable for further analysis or processing. The specific steps and techniques used for text denoising can vary depending on the context and the nature of the noise you want to eliminate. Here are some common tasks that are typically involved in text denoising:\n",
    "\n",
    "Removing HTML Tags and Markup: If your text contains HTML or other markup language, you might want to strip out these tags to extract the plain text content. You can use libraries like BeautifulSoup, as mentioned earlier, or regular expressions for this purpose.\n",
    "\n",
    "Removing Special Characters and Punctuation: Sometimes, text may contain unwanted characters, symbols, or punctuation marks that need to be removed to clean up the text.\n",
    "\n",
    "Lowercasing: Converting all text to lowercase can help with consistency and reduce the impact of capitalization noise. However, this should be done carefully, as it may change the meaning of some words.\n",
    "\n",
    "Removing Stop Words: Stop words are common words like \"and,\" \"the,\" \"is,\" which often do not carry much meaning in text analysis. Removing them can reduce noise in some cases.\n",
    "\n",
    "Spell Checking and Correction: Text may contain spelling errors that can be corrected using spell-checking algorithms or libraries.\n",
    "\n",
    "Tokenization: Breaking text into words or tokens is a fundamental step in text processing. It can help in analyzing and cleaning individual words.\n",
    "\n",
    "Stemming or Lemmatization: Reducing words to their root forms (e.g., \"running\" to \"run\") can help in reducing variation in text data.\n",
    "\n",
    "Removing URLs and Email Addresses: If your text contains web links or email addresses, you might want to remove them.\n",
    "\n",
    "Removing Non-Alphanumeric Characters: In some cases, you may want to remove all non-alphanumeric characters, leaving only letters and numbers.\n",
    "\n",
    "Handling Non-Standard Characters and Encoding: Ensure that text is properly encoded to handle non-standard characters and symbols.\n",
    "\n",
    "The specific denoising techniques you use will depend on the nature of your text data and your analysis goals. It's common to create custom functions or scripts for text denoising tailored to the specific requirements of your project.\n",
    "\"\"\"\n",
    "print(sample)\n"
   ]
  },
  {
   "cell_type": "code",
   "execution_count": null,
   "id": "0fd41df9-8dba-4a55-a422-1a704251e94f",
   "metadata": {},
   "outputs": [],
   "source": []
  }
 ],
 "metadata": {
  "kernelspec": {
   "display_name": "Python 3 (ipykernel)",
   "language": "python",
   "name": "python3"
  },
  "language_info": {
   "codemirror_mode": {
    "name": "ipython",
    "version": 3
   },
   "file_extension": ".py",
   "mimetype": "text/x-python",
   "name": "python",
   "nbconvert_exporter": "python",
   "pygments_lexer": "ipython3",
   "version": "3.11.5"
  }
 },
 "nbformat": 4,
 "nbformat_minor": 5
}
